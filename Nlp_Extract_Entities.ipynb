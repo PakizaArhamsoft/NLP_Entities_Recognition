{
 "cells": [
  {
   "cell_type": "code",
   "execution_count": 1,
   "metadata": {},
   "outputs": [],
   "source": [
    "import nltk\n",
    "from nltk.tokenize import word_tokenize\n",
    "from nltk.tag import pos_tag"
   ]
  },
  {
   "cell_type": "code",
   "execution_count": 3,
   "metadata": {},
   "outputs": [],
   "source": [
    "ex = \"Bachelor's Degree from an accredited college or university in Engineering, Computer Science, Information Systems, Business, or other related Discipline.  Master's degree preferred.\""
   ]
  },
  {
   "cell_type": "markdown",
   "metadata": {},
   "source": [
    "Using NLTK Word Tokenization"
   ]
  },
  {
   "cell_type": "code",
   "execution_count": 3,
   "metadata": {},
   "outputs": [],
   "source": [
    "def preprocess(sent):\n",
    "    sent = nltk.word_tokenize(sent)\n",
    "    sent = nltk.pos_tag(sent)\n",
    "    return sent"
   ]
  },
  {
   "cell_type": "code",
   "execution_count": 4,
   "metadata": {},
   "outputs": [
    {
     "data": {
      "text/plain": [
       "[('Bachelor', 'NNP'),\n",
       " (\"'s\", 'POS'),\n",
       " ('Degree', 'NNP'),\n",
       " ('from', 'IN'),\n",
       " ('an', 'DT'),\n",
       " ('accredited', 'JJ'),\n",
       " ('college', 'NN'),\n",
       " ('or', 'CC'),\n",
       " ('university', 'NN'),\n",
       " ('in', 'IN'),\n",
       " ('Engineering', 'NNP'),\n",
       " (',', ','),\n",
       " ('Computer', 'NNP'),\n",
       " ('Science', 'NNP'),\n",
       " (',', ','),\n",
       " ('Information', 'NNP'),\n",
       " ('Systems', 'NNP'),\n",
       " (',', ','),\n",
       " ('Business', 'NNP'),\n",
       " (',', ','),\n",
       " ('or', 'CC'),\n",
       " ('other', 'JJ'),\n",
       " ('related', 'JJ'),\n",
       " ('Discipline', 'NNP'),\n",
       " ('.', '.'),\n",
       " ('Master', 'NNP'),\n",
       " (\"'s\", 'POS'),\n",
       " ('degree', 'NN'),\n",
       " ('preferred', 'VBD'),\n",
       " ('.', '.')]"
      ]
     },
     "execution_count": 4,
     "metadata": {},
     "output_type": "execute_result"
    }
   ],
   "source": [
    "sent = preprocess(ex)\n",
    "sent"
   ]
  },
  {
   "cell_type": "markdown",
   "metadata": {},
   "source": [
    "Using NLTK Regexparser"
   ]
  },
  {
   "cell_type": "code",
   "execution_count": 5,
   "metadata": {},
   "outputs": [
    {
     "name": "stdout",
     "output_type": "stream",
     "text": [
      "(S\n",
      "  Bachelor/NNP\n",
      "  's/POS\n",
      "  Degree/NNP\n",
      "  from/IN\n",
      "  (NP an/DT accredited/JJ college/NN)\n",
      "  or/CC\n",
      "  (NP university/NN)\n",
      "  in/IN\n",
      "  Engineering/NNP\n",
      "  ,/,\n",
      "  Computer/NNP\n",
      "  Science/NNP\n",
      "  ,/,\n",
      "  Information/NNP\n",
      "  Systems/NNP\n",
      "  ,/,\n",
      "  Business/NNP\n",
      "  ,/,\n",
      "  or/CC\n",
      "  other/JJ\n",
      "  related/JJ\n",
      "  Discipline/NNP\n",
      "  ./.\n",
      "  Master/NNP\n",
      "  's/POS\n",
      "  (NP degree/NN)\n",
      "  preferred/VBD\n",
      "  ./.)\n"
     ]
    }
   ],
   "source": [
    "pattern = 'NP: {<DT>?<JJ>*<NN>}'\n",
    "cp = nltk.RegexpParser(pattern)\n",
    "cs = cp.parse(sent)\n",
    "print(cs)"
   ]
  },
  {
   "cell_type": "markdown",
   "metadata": {},
   "source": [
    "Using NLTK ne.Chunk"
   ]
  },
  {
   "cell_type": "code",
   "execution_count": 7,
   "metadata": {},
   "outputs": [
    {
     "name": "stdout",
     "output_type": "stream",
     "text": [
      "(S\n",
      "  (GPE Bachelor/NNP)\n",
      "  's/POS\n",
      "  Degree/NNP\n",
      "  from/IN\n",
      "  an/DT\n",
      "  accredited/JJ\n",
      "  college/NN\n",
      "  or/CC\n",
      "  university/NN\n",
      "  in/IN\n",
      "  (GPE Engineering/NNP)\n",
      "  ,/,\n",
      "  (ORGANIZATION Computer/NNP Science/NNP)\n",
      "  ,/,\n",
      "  (ORGANIZATION Information/NNP Systems/NNP)\n",
      "  ,/,\n",
      "  (GPE Business/NNP)\n",
      "  ,/,\n",
      "  or/CC\n",
      "  other/JJ\n",
      "  related/JJ\n",
      "  Discipline/NNP\n",
      "  ./.\n",
      "  (PERSON Master/NNP)\n",
      "  's/POS\n",
      "  degree/NN\n",
      "  preferred/VBD\n",
      "  ./.)\n"
     ]
    }
   ],
   "source": [
    "ne_tree = nltk.ne_chunk(pos_tag(word_tokenize(ex)))\n",
    "print(ne_tree)"
   ]
  },
  {
   "cell_type": "markdown",
   "metadata": {},
   "source": [
    "Using Spacy"
   ]
  },
  {
   "cell_type": "code",
   "execution_count": 11,
   "metadata": {},
   "outputs": [],
   "source": [
    "import spacy\n",
    "from spacy import displacy\n",
    "from collections import Counter\n",
    "nlp = spacy.load(\"en_core_sci_lg\")"
   ]
  },
  {
   "cell_type": "code",
   "execution_count": 12,
   "metadata": {},
   "outputs": [
    {
     "name": "stdout",
     "output_type": "stream",
     "text": [
      "[(\"Bachelor's\", 'ENTITY'), ('Degree', 'ENTITY'), ('accredited', 'ENTITY'), ('college', 'ENTITY'), ('university', 'ENTITY'), ('Engineering', 'ENTITY'), ('Computer Science', 'ENTITY'), ('Information Systems', 'ENTITY'), ('Business', 'ENTITY'), ('Discipline', 'ENTITY'), (\"Master's\", 'ENTITY'), ('degree', 'ENTITY')]\n"
     ]
    }
   ],
   "source": [
    "doc = nlp(ex)\n",
    "print([(X.text, X.label_) for X in doc.ents])"
   ]
  },
  {
   "cell_type": "code",
   "execution_count": 13,
   "metadata": {},
   "outputs": [
    {
     "name": "stdout",
     "output_type": "stream",
     "text": [
      "[(Bachelor, 'B', 'ENTITY'), ('s, 'I', 'ENTITY'), (Degree, 'B', 'ENTITY'), (from, 'O', ''), (an, 'O', ''), (accredited, 'B', 'ENTITY'), (college, 'B', 'ENTITY'), (or, 'O', ''), (university, 'B', 'ENTITY'), (in, 'O', ''), (Engineering, 'B', 'ENTITY'), (,, 'O', ''), (Computer, 'B', 'ENTITY'), (Science, 'I', 'ENTITY'), (,, 'O', ''), (Information, 'B', 'ENTITY'), (Systems, 'I', 'ENTITY'), (,, 'O', ''), (Business, 'B', 'ENTITY'), (,, 'O', ''), (or, 'O', ''), (other, 'O', ''), (related, 'O', ''), (Discipline, 'B', 'ENTITY'), (., 'O', ''), ( , 'O', ''), (Master, 'B', 'ENTITY'), ('s, 'I', 'ENTITY'), (degree, 'B', 'ENTITY'), (preferred, 'O', ''), (., 'O', '')]\n"
     ]
    }
   ],
   "source": [
    "print([(X, X.ent_iob_, X.ent_type_) for X in doc])"
   ]
  },
  {
   "cell_type": "code",
   "execution_count": null,
   "metadata": {},
   "outputs": [],
   "source": []
  },
  {
   "cell_type": "code",
   "execution_count": null,
   "metadata": {},
   "outputs": [],
   "source": []
  },
  {
   "cell_type": "code",
   "execution_count": null,
   "metadata": {},
   "outputs": [],
   "source": []
  }
 ],
 "metadata": {
  "interpreter": {
   "hash": "916dbcbb3f70747c44a77c7bcd40155683ae19c65e1c03b4aa3499c5328201f1"
  },
  "kernelspec": {
   "display_name": "Python 3 (ipykernel)",
   "language": "python",
   "name": "python3"
  },
  "language_info": {
   "codemirror_mode": {
    "name": "ipython",
    "version": 3
   },
   "file_extension": ".py",
   "mimetype": "text/x-python",
   "name": "python",
   "nbconvert_exporter": "python",
   "pygments_lexer": "ipython3",
   "version": "3.8.10"
  }
 },
 "nbformat": 4,
 "nbformat_minor": 2
}
